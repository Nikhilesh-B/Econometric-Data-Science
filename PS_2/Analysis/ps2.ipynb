{
 "cells": [
  {
   "cell_type": "markdown",
   "id": "4840611c",
   "metadata": {},
   "source": [
    "# Problem 1"
   ]
  },
  {
   "cell_type": "code",
   "execution_count": 34,
   "id": "2a806bd6",
   "metadata": {},
   "outputs": [],
   "source": [
    "import numpy as np\n",
    "import pandas as pd \n",
    "import statsmodels.api as sm\n",
    "import matplotlib.pyplot as plt\n",
    "from scipy.stats import norm"
   ]
  },
  {
   "cell_type": "markdown",
   "id": "fcafd5e8",
   "metadata": {},
   "source": [
    "### a) You have data (Yi,X1i,X2i) generated from the model Yi = β0 + β1X1i + β2X2i + ei, where ei satisfies the usual exogeneity condition. You are interested in estimating the causal effect of X1 on Y . Suppose X1 and X2 are positively correlated, and β2 > 0. If you regress Y only on X1, will your estimate of β1 be biased? In what direction?"
   ]
  },
  {
   "cell_type": "markdown",
   "id": "07a55218",
   "metadata": {},
   "source": [
    "We start with the true regression model:\n",
    "\n",
    "$$\n",
    "Y_i = \\beta_0 + \\beta_1 X_{1i} + \\beta_2 X_{2i} + e_i\n",
    "$$\n",
    "\n",
    "where $E[e_i \\mid X_1, X_2] = 0$.\n",
    "\n",
    "⸻\n",
    "\n",
    "Now, suppose instead we run a regression of Y only on X_1:\n",
    "\n",
    "$$\n",
    "Y_i = \\beta_0 + \\tilde{\\beta}1 X{1i} + u_i\n",
    "$$\n",
    "\n",
    "We want to determine the relationship between $\\tilde{\\beta}_1$ and the true coefficient $\\beta_1$.\n",
    "\n",
    "⸻\n",
    "\n",
    "The OLS estimator in this simple regression is:\n",
    "\n",
    "$$\n",
    "\\hat{\\beta}1 = \\frac{\\text{Cov}(Y_i, X{1i})}{\\text{Var}(X_{1i})}\n",
    "$$\n",
    "\n",
    "Substituting $Y_i = \\beta_0 + \\beta_1 X_{1i} + \\beta_2 X_{2i} + e_i$:\n",
    "\n",
    "$$\n",
    "\\hat{\\beta}1 = \\frac{\\text{Cov}(\\beta_0 + \\beta_1 X{1i} + \\beta_2 X_{2i} + e_i, X_{1i})}{\\text{Var}(X_{1i})}\n",
    "$$\n",
    "\n",
    "Since $\\beta_0$ is a constant and $e_i$ is mean-independent of $X_1$, this reduces to:\n",
    "\n",
    "$$\n",
    "\\hat{\\beta}1 = \\frac{\\beta_1 \\text{Var}(X{1i}) + \\beta_2 \\text{Cov}(X_{2i}, X_{1i})}{\\text{Var}(X_{1i})}\n",
    "$$\n",
    "\n",
    "⸻\n",
    "\n",
    "Thus:\n",
    "\n",
    "$$\n",
    "\\hat{\\beta}1 = \\beta_1 + \\beta_2 \\cdot \\frac{\\text{Cov}(X{1i}, X_{2i})}{\\text{Var}(X_{1i})}\n",
    "$$\n",
    "\n",
    "⸻\n",
    "\n",
    "Direction of Bias\n",
    "\n",
    "$\\beta_2$ > 0 (given)\n",
    "\n",
    "$\\text{Cov}(X_1, X_2) > 0$ (since they are positively correlated)\n",
    "\n",
    "$\\text{Var}(X_1) > 0$\n",
    "\n",
    "Therefore:\n",
    "\n",
    "$$\n",
    "\\hat{\\beta}_1 > \\beta_1\n",
    "$$\n",
    "\n",
    "⸻\n",
    "\n",
    "Final Conclusion\n",
    "\n",
    "$$\n",
    "\\hat{\\beta}_1 \\text{ has a positive bias.}\n",
    "$$"
   ]
  },
  {
   "cell_type": "markdown",
   "id": "e5b2dd90",
   "metadata": {},
   "source": [
    "### b) A researcher runs a simple regression of income (Y ) on years of education (X1) and finds a strong positive effect. Another researcher argues that this estimate is likely upward biased because it omits cognitive ability (X2). Explain why omitted variable bias may be present, what is the most likely sign of the bias and how it affects the interpretation of the education coefficient"
   ]
  },
  {
   "cell_type": "markdown",
   "id": "8d10309f",
   "metadata": {},
   "source": [
    "Omitted variable bias may be present as congnitive ability (X2) is both positively correlated with years of education and also probably has a causal relationship with income, hence it will be a form of omitted variable bias on the years of education (X1). The likely sign of the bias is positive (like the question above) and therefore the education coefficient in the original regression is incorretly specified and is probably overstated (i.e., too large) hence the causal coeffeicient in the regression assigns too much importance to years of education."
   ]
  },
  {
   "cell_type": "markdown",
   "id": "9b6d014e",
   "metadata": {},
   "source": [
    "### (c) Consider the regression model Yi = β0 + β1X1i + β2X2i + ei. Transform the regression so that you can use a t-statistic to test i H0 : β1 = β2, ii H0 : β1 + 2β2 = 0, iii H0 : β1 + β2 = 1 (you may redefine the dependant variable)"
   ]
  },
  {
   "cell_type": "markdown",
   "id": "dccfc38c",
   "metadata": {},
   "source": [
    "i) Run regression $Y_i = \\beta_3 + \\lambda_1(X_{1i} - X_{2i}) + e_i$. You can test if $\\lambda_1 = 0$ or not to test whether $\\beta_1=\\beta_2$. \n",
    "\n",
    "\n",
    "ii) Run regression $Y_i = \\beta_5 + \\lambda_2(X_{1i} + 2*X_{2i}) + e_i$. You can test if $\\lambda_2 = 0$ is zero or not to test whether $\\beta_1+2\\beta_2=0$\n",
    "\n",
    "iii) Run regression $Y_i = \\beta_7 + \\lambda_3(X_{1i} + X_{2i}) + e_i$. You can test if $\\lambda_3 = 1$ to test whether $\\beta_1+\\beta_2=1$ using appropriate t-test. You essentially need to create a new variable computed as specified by the transformation\n",
    "\n",
    "Note for all the above tests it's important the way that you construct these z-tests and t-tests. In particular to we combute the $Var(\\lambda) = a'Var(\\Beta)a$, where a is the linear combination that we are now testing $\\lambda=a'\\beta$.  Accordingly we also habve the standard errors that we can compute like this: $s.e.(\\lambda)=\\frac{\\sqrt{var(\\lambda)}}{\\sqrt{n}}$\n"
   ]
  },
  {
   "cell_type": "markdown",
   "id": "935d6362",
   "metadata": {},
   "source": [
    "### (d) True or False: In a multiple regression model, the coefficient β1 on regressor X1 always equals the coefficient from a simple regression of Y on X1. Briefly justify your answer."
   ]
  },
  {
   "cell_type": "markdown",
   "id": "5ca1bbe5",
   "metadata": {},
   "source": [
    "False, in the case OMVB as shown above this will not be the case."
   ]
  },
  {
   "cell_type": "markdown",
   "id": "a3ce4eb4",
   "metadata": {},
   "source": [
    "# Problem 2"
   ]
  },
  {
   "cell_type": "markdown",
   "id": "55672474",
   "metadata": {},
   "source": [
    "Policy makers often debate whether increasing public school funding leads to\n",
    "better student outcomes. This question is particularly important in the context\n",
    "of persistent achievement gaps across states. To study this question, a researcher collects data from 50 U.S. states in 2019. The dependent variable is AvgScore, the average score on a standardized 8th\n",
    "grade math test (out of 500 points). One key independent variable is Spend, per-pupil public school expenditure (in thousands of dollars). Heteroskedasticity-robust standard errors are reported in parentheses."
   ]
  },
  {
   "cell_type": "markdown",
   "id": "3222212b",
   "metadata": {},
   "source": [
    "### a) Interpret the coefficient on Spend in Regression (1). Is it large in a real-world sense? Is it statistically significant?"
   ]
  },
  {
   "cell_type": "markdown",
   "id": "64d5f3cd",
   "metadata": {},
   "source": [
    "The spend variable doesn't seem to be that large in a real world sense. It basically means that out of a test of 500 our scores increase by 2.9 points for an increase in $1000 per pupil. This seems like fairly marginal increase for a test that is scored out of 500 (i.e., about a 0.6% increase for an extra thousand). Hence for student scores to increase by around 10% on average a school would have to spend $16,667 per student which seems like extra spend doesn't make that much of a difference. \n",
    "\n",
    "\n",
    "It is statistically significant however. If we calculate the t-stastitic it is $\\frac{\\hat{\\beta}}{s.e.} = \\frac{2.90}{1.25} = 2.32$, which would be statistically signficant at a significance level of $5\\%$"
   ]
  },
  {
   "cell_type": "markdown",
   "id": "5c167ec7",
   "metadata": {},
   "source": [
    "### b) Suppose Mississippi spends $8,000 per pupil and Massachusetts spends $16,000. Predict the difference in average test scores between the two states using Regression (1)."
   ]
  },
  {
   "cell_type": "markdown",
   "id": "c2706772",
   "metadata": {},
   "source": [
    "The difference in avg test scores for the regressions would be $-8*2.90 = -23.2$, basically massachusetts would have higher scores on averages of about 23.2."
   ]
  },
  {
   "cell_type": "markdown",
   "id": "8c5b328d",
   "metadata": {},
   "source": [
    "### c) Compute a 95% confidence interval for the coefficient on Spend. What does this interval imply about the precision of the estimate?"
   ]
  },
  {
   "cell_type": "markdown",
   "id": "b824a9e4",
   "metadata": {},
   "source": [
    "The 95% confidence interval of the spend would be $[2.9-1.62*1.25, 2.9+1.62*1.25]$ = $[0.875, 4.925]$. "
   ]
  },
  {
   "cell_type": "markdown",
   "id": "5037080c",
   "metadata": {},
   "source": [
    "### d) Do you think the regression error is likely to be homoskedastic or heteroskedastic in this context? Explain briefly."
   ]
  },
  {
   "cell_type": "markdown",
   "id": "2eb5a0a4",
   "metadata": {},
   "source": [
    "I think the standard errors here are likely to be heavily heteroskedastic. As you increase spend on students there will be a few schools private schools that have different focuses. Some may focus on sports but may have a simialr spend per student to those that focus on academics and hence there would be a higher variance in the std errors for these high spending schools suggesting heteroskedasticity."
   ]
  },
  {
   "cell_type": "markdown",
   "id": "76750758",
   "metadata": {},
   "source": [
    "### The researcher suspects that other state-level characteristics may also affect student performance. In particular, states differ in income levels and demographics. She runs a new regression"
   ]
  },
  {
   "cell_type": "markdown",
   "id": "b42b5630",
   "metadata": {},
   "source": [
    "### e) The coefficient on Spend decreased substantially from Regression (1) to Regression (2). Why might this have happened? Explain both the direction and magnitude of the change."
   ]
  },
  {
   "cell_type": "markdown",
   "id": "04bad3f8",
   "metadata": {},
   "source": [
    "This may of happened because of there may have been omitted variable bias with spend being negatively correlated to poverty and positively correlated to pct in college. Since the Betas are also negative and positive relative to test score both theses OMVBs would induce a posiitve bias on the original regression, leading to the significant reduction on the variable spend.\n"
   ]
  },
  {
   "cell_type": "markdown",
   "id": "7420a9cb",
   "metadata": {},
   "source": [
    "### f) The researcher is concerned about omitted variable bias from not including ClassSize (average class size in public schools). Would including this variable likely increase or decrease the estimated effect of Spend ? Justify your reasoning"
   ]
  },
  {
   "cell_type": "markdown",
   "id": "7bbac6ef",
   "metadata": {},
   "source": [
    "This variable is most likely explanatory with a negative beta to test score (i.e. the lower the class size the higher the test score), it will also probably be negatively correlated with spend e.g., the more you spend the lower your class size. It will therefore induce a positive OMVB on spend if it is not included. It will therefore decrease the estimated effect of Spend."
   ]
  },
  {
   "cell_type": "markdown",
   "id": "641d4cd1",
   "metadata": {},
   "source": [
    "### g) Based on Regression (2), interpret the coefficient on PctCollege. What does this suggest about the relationship between adult education levels and student performance?"
   ]
  },
  {
   "cell_type": "markdown",
   "id": "a2dd7d30",
   "metadata": {},
   "source": [
    "For every percent increase in the amount of college educated students you have, your avg score increases by 1.75. This susggests that adult education is positively correlated with student performance. "
   ]
  },
  {
   "cell_type": "markdown",
   "id": "60cb8b84",
   "metadata": {},
   "source": [
    "### h) What is the adjusted R2 trying to capture in this context? Would you expect it to be higher or lower than the reported R2?"
   ]
  },
  {
   "cell_type": "markdown",
   "id": "f842546f",
   "metadata": {},
   "source": [
    "The adjusted R^2 is trying to capture how the new regression explains the variation in the test scores agnostic to how many new regressors you include. You would expect adjusted R^2 to always be lower than R^2. "
   ]
  },
  {
   "cell_type": "markdown",
   "id": "2057ae3f",
   "metadata": {},
   "source": [
    "# Problem 3"
   ]
  },
  {
   "cell_type": "markdown",
   "id": "3e33792f",
   "metadata": {},
   "source": [
    "### a) run an OLS regression of Earnings on Height. Discuss the interpretation, the sign and the size of the coefficient."
   ]
  },
  {
   "cell_type": "code",
   "execution_count": 35,
   "id": "8c12a8a5",
   "metadata": {},
   "outputs": [
    {
     "data": {
      "text/html": [
       "<div>\n",
       "<style scoped>\n",
       "    .dataframe tbody tr th:only-of-type {\n",
       "        vertical-align: middle;\n",
       "    }\n",
       "\n",
       "    .dataframe tbody tr th {\n",
       "        vertical-align: top;\n",
       "    }\n",
       "\n",
       "    .dataframe thead th {\n",
       "        text-align: right;\n",
       "    }\n",
       "</style>\n",
       "<table border=\"1\" class=\"dataframe\">\n",
       "  <thead>\n",
       "    <tr style=\"text-align: right;\">\n",
       "      <th></th>\n",
       "      <th>sex</th>\n",
       "      <th>educ</th>\n",
       "      <th>earnings</th>\n",
       "      <th>height</th>\n",
       "    </tr>\n",
       "  </thead>\n",
       "  <tbody>\n",
       "    <tr>\n",
       "      <th>0</th>\n",
       "      <td>0:female</td>\n",
       "      <td>13</td>\n",
       "      <td>84.054749</td>\n",
       "      <td>65.0</td>\n",
       "    </tr>\n",
       "    <tr>\n",
       "      <th>1</th>\n",
       "      <td>0:female</td>\n",
       "      <td>12</td>\n",
       "      <td>14.021395</td>\n",
       "      <td>65.0</td>\n",
       "    </tr>\n",
       "    <tr>\n",
       "      <th>2</th>\n",
       "      <td>0:female</td>\n",
       "      <td>16</td>\n",
       "      <td>84.054749</td>\n",
       "      <td>60.0</td>\n",
       "    </tr>\n",
       "    <tr>\n",
       "      <th>3</th>\n",
       "      <td>0:female</td>\n",
       "      <td>16</td>\n",
       "      <td>84.054749</td>\n",
       "      <td>67.0</td>\n",
       "    </tr>\n",
       "    <tr>\n",
       "      <th>4</th>\n",
       "      <td>0:female</td>\n",
       "      <td>16</td>\n",
       "      <td>28.560387</td>\n",
       "      <td>68.0</td>\n",
       "    </tr>\n",
       "    <tr>\n",
       "      <th>...</th>\n",
       "      <td>...</td>\n",
       "      <td>...</td>\n",
       "      <td>...</td>\n",
       "      <td>...</td>\n",
       "    </tr>\n",
       "    <tr>\n",
       "      <th>17865</th>\n",
       "      <td>1:male</td>\n",
       "      <td>12</td>\n",
       "      <td>18.168842</td>\n",
       "      <td>70.0</td>\n",
       "    </tr>\n",
       "    <tr>\n",
       "      <th>17866</th>\n",
       "      <td>1:male</td>\n",
       "      <td>12</td>\n",
       "      <td>84.054749</td>\n",
       "      <td>74.0</td>\n",
       "    </tr>\n",
       "    <tr>\n",
       "      <th>17867</th>\n",
       "      <td>1:male</td>\n",
       "      <td>12</td>\n",
       "      <td>16.081589</td>\n",
       "      <td>65.0</td>\n",
       "    </tr>\n",
       "    <tr>\n",
       "      <th>17868</th>\n",
       "      <td>1:male</td>\n",
       "      <td>12</td>\n",
       "      <td>84.054749</td>\n",
       "      <td>68.0</td>\n",
       "    </tr>\n",
       "    <tr>\n",
       "      <th>17869</th>\n",
       "      <td>1:male</td>\n",
       "      <td>9</td>\n",
       "      <td>12.954765</td>\n",
       "      <td>68.0</td>\n",
       "    </tr>\n",
       "  </tbody>\n",
       "</table>\n",
       "<p>17870 rows × 4 columns</p>\n",
       "</div>"
      ],
      "text/plain": [
       "            sex  educ   earnings  height\n",
       "0      0:female    13  84.054749    65.0\n",
       "1      0:female    12  14.021395    65.0\n",
       "2      0:female    16  84.054749    60.0\n",
       "3      0:female    16  84.054749    67.0\n",
       "4      0:female    16  28.560387    68.0\n",
       "...         ...   ...        ...     ...\n",
       "17865    1:male    12  18.168842    70.0\n",
       "17866    1:male    12  84.054749    74.0\n",
       "17867    1:male    12  16.081589    65.0\n",
       "17868    1:male    12  84.054749    68.0\n",
       "17869    1:male     9  12.954765    68.0\n",
       "\n",
       "[17870 rows x 4 columns]"
      ]
     },
     "execution_count": 35,
     "metadata": {},
     "output_type": "execute_result"
    }
   ],
   "source": [
    "raw_data = pd.read_stata('../Earnings_and_Height_v2.dta')\n",
    "raw_data"
   ]
  },
  {
   "cell_type": "code",
   "execution_count": 36,
   "id": "8249d169",
   "metadata": {},
   "outputs": [
    {
     "name": "stdout",
     "output_type": "stream",
     "text": [
      "                            OLS Regression Results                            \n",
      "==============================================================================\n",
      "Dep. Variable:               earnings   R-squared:                       0.011\n",
      "Model:                            OLS   Adj. R-squared:                  0.011\n",
      "Method:                 Least Squares   F-statistic:                     197.2\n",
      "Date:                Sun, 28 Sep 2025   Prob (F-statistic):           1.46e-44\n",
      "Time:                        16:08:33   Log-Likelihood:                -84104.\n",
      "No. Observations:               17870   AIC:                         1.682e+05\n",
      "Df Residuals:                   17868   BIC:                         1.682e+05\n",
      "Df Model:                           1                                         \n",
      "Covariance Type:                  HC0                                         \n",
      "==============================================================================\n",
      "                 coef    std err          z      P>|z|      [0.025      0.975]\n",
      "------------------------------------------------------------------------------\n",
      "const         -0.5127      3.380     -0.152      0.879      -7.137       6.111\n",
      "height         0.7077      0.050     14.043      0.000       0.609       0.806\n",
      "==============================================================================\n",
      "Omnibus:                   346151.605   Durbin-Watson:                   1.683\n",
      "Prob(Omnibus):                  0.000   Jarque-Bera (JB):             1827.913\n",
      "Skew:                           0.397   Prob(JB):                         0.00\n",
      "Kurtosis:                       1.649   Cond. No.                     1.13e+03\n",
      "==============================================================================\n",
      "\n",
      "Notes:\n",
      "[1] Standard Errors are heteroscedasticity robust (HC0)\n",
      "[2] The condition number is large, 1.13e+03. This might indicate that there are\n",
      "strong multicollinearity or other numerical problems.\n"
     ]
    }
   ],
   "source": [
    "Y = raw_data[['earnings']]\n",
    "X = sm.add_constant(raw_data[['height']])\n",
    "\n",
    "model = sm.OLS(endog=Y, exog=X).fit(cov_type='HC0')\n",
    "print(model.summary(alpha=0.05))\n"
   ]
  },
  {
   "cell_type": "markdown",
   "id": "91bb3924",
   "metadata": {},
   "source": [
    "Intepretation of size and sign of coefficient: for every additional inch of height an indviduals wage increases by 0.71 cents. It is statiscally signficant. "
   ]
  },
  {
   "cell_type": "markdown",
   "id": "1802d4de",
   "metadata": {},
   "source": [
    "### b) Suppose that the mechanism described above is correct. Explain how this leads to omitted variable bias in the OLS regression of Earnings on Height. Does the bias lead the estimated slope to be too large or too small?"
   ]
  },
  {
   "cell_type": "markdown",
   "id": "d95dbac5",
   "metadata": {},
   "source": [
    "In this case height would be positively correlated with cognitive ability and cognitive ability would be positively correlated with earnings. So accoridngly what happens is that you would placing a positive bias on the original regression coefficient with height, making it too large."
   ]
  },
  {
   "cell_type": "markdown",
   "id": "57f11dbe",
   "metadata": {},
   "source": [
    "### c) Run a regression of Earnings on Height, including LT HS,HS, and some col as control variables"
   ]
  },
  {
   "cell_type": "code",
   "execution_count": 47,
   "id": "62d8e3a5",
   "metadata": {},
   "outputs": [
    {
     "name": "stdout",
     "output_type": "stream",
     "text": [
      "                            OLS Regression Results                            \n",
      "==============================================================================\n",
      "Dep. Variable:               earnings   R-squared:                       0.152\n",
      "Model:                            OLS   Adj. R-squared:                  0.152\n",
      "Method:                 Least Squares   F-statistic:                     904.6\n",
      "Date:                Sun, 28 Sep 2025   Prob (F-statistic):               0.00\n",
      "Time:                        16:11:09   Log-Likelihood:                -82731.\n",
      "No. Observations:               17870   AIC:                         1.655e+05\n",
      "Df Residuals:                   17865   BIC:                         1.655e+05\n",
      "Df Model:                           4                                         \n",
      "Covariance Type:                  HC0                                         \n",
      "==============================================================================\n",
      "                 coef    std err          z      P>|z|      [0.025      0.975]\n",
      "------------------------------------------------------------------------------\n",
      "const         30.2331      3.199      9.451      0.000      23.963      36.503\n",
      "height         0.4538      0.047      9.651      0.000       0.362       0.546\n",
      "LT_HS        -31.7161      0.596    -53.257      0.000     -32.883     -30.549\n",
      "HS           -20.3894      0.472    -43.225      0.000     -21.314     -19.465\n",
      "Some_Col     -12.6430      0.533    -23.724      0.000     -13.688     -11.598\n",
      "==============================================================================\n",
      "Omnibus:                     3631.707   Durbin-Watson:                   1.904\n",
      "Prob(Omnibus):                  0.000   Jarque-Bera (JB):             1068.864\n",
      "Skew:                           0.360   Prob(JB):                    7.93e-233\n",
      "Kurtosis:                       2.043   Cond. No.                     1.15e+03\n",
      "==============================================================================\n",
      "\n",
      "Notes:\n",
      "[1] Standard Errors are heteroscedasticity robust (HC0)\n",
      "[2] The condition number is large, 1.15e+03. This might indicate that there are\n",
      "strong multicollinearity or other numerical problems.\n"
     ]
    }
   ],
   "source": [
    "raw_data['LT_HS'] = raw_data['educ']<12\n",
    "raw_data['HS'] = raw_data['educ']==12\n",
    "raw_data['Some_Col'] = (raw_data['educ']>12) & (raw_data['educ']<16)\n",
    "raw_data['College'] = raw_data['educ']>=16\n",
    "\n",
    "educ_cols = ['LT_HS','HS', 'Some_Col','College']\n",
    "for col_name in educ_cols:\n",
    "     raw_data[col_name] = raw_data[col_name].map({True:1, False:0})\n",
    "\n",
    "\n",
    "X = raw_data[[\"height\", \"LT_HS\", \"HS\", \"Some_Col\"]]\n",
    "X = sm.add_constant(X)\n",
    "\n",
    "model = sm.OLS(endog=Y, exog=X).fit(cov_type='HC0')\n",
    "print(model.summary(alpha=0.05))"
   ]
  },
  {
   "cell_type": "markdown",
   "id": "359370e5",
   "metadata": {},
   "source": [
    "### c i) Compare the estimated coefficient on Height in two regressions. Is there a large change in the coefficient? Has it changed in a way con- sistent with the cognitive ability explanation? Explain\n",
    "\n",
    "\n",
    "Yes there is a major change in the estimated coefficients of height it decrases significantly. This is consistent with the congitive ability explanation because we expected a positive bias due to the OMVB from the cognitive ability perspective. "
   ]
  },
  {
   "cell_type": "markdown",
   "id": "07054331",
   "metadata": {},
   "source": [
    "### c ii) The regression omits the control variable College. Why?"
   ]
  },
  {
   "cell_type": "markdown",
   "id": "8f5a727d",
   "metadata": {},
   "source": [
    "The regression omits the control variable College to ensure no perfect multicolinearity because if you included this variable your column rank would be less than p. "
   ]
  },
  {
   "cell_type": "markdown",
   "id": "b08fce03",
   "metadata": {
    "vscode": {
     "languageId": "latex"
    }
   },
   "source": [
    "### c iii) Test the joint null hypothesis that the coefficients on the education variables are equal to 0"
   ]
  },
  {
   "cell_type": "markdown",
   "id": "9e40827b",
   "metadata": {},
   "source": [
    "The null hypothesis that the coefficients on the education variables are all equal to 0 is tested by the F-statistic it clearly shows that F-statistic is 904.6 which implies that the education variables are all equal to 0."
   ]
  },
  {
   "cell_type": "markdown",
   "id": "e60529e6",
   "metadata": {},
   "source": [
    "### c iv) Discuss the values of the estimated coefficients on LT HS,HS, and Some Col. (Each of the estimated coefficients is negative, and thecoefficient on LT HS is more negative than the coefficient on HS, which in turn is more negative than the coefficient on Some Col. Why? What do the coefficients measure?)"
   ]
  },
  {
   "cell_type": "markdown",
   "id": "03eb197d",
   "metadata": {},
   "source": [
    "The reason they are all negative is that the coefficients measures the relative effect of doing that level of education versus college. So the coeffecient implies the decrease in wage once can expect relative to if that individual stayed educated until college. Of course dropping out earlier decreases your wage by a greater amount than dropping out at some point in college."
   ]
  },
  {
   "cell_type": "markdown",
   "id": "24807a66",
   "metadata": {},
   "source": [
    "### d) Run an OLS regression of Height, on LT HS,HS, and Some Col, get residuals from this regression. Regress Earnings on the residuals you just obtained, compare the results with the ones you obtained in c. Discuss."
   ]
  },
  {
   "cell_type": "code",
   "execution_count": null,
   "id": "6bb5e4b5",
   "metadata": {},
   "outputs": [
    {
     "name": "stdout",
     "output_type": "stream",
     "text": [
      "                            OLS Regression Results                            \n",
      "==============================================================================\n",
      "Dep. Variable:               earnings   R-squared:                       0.848\n",
      "Model:                            OLS   Adj. R-squared:                  0.848\n",
      "Method:                 Least Squares   F-statistic:                 9.988e+04\n",
      "Date:                Sun, 28 Sep 2025   Prob (F-statistic):               0.00\n",
      "Time:                        16:26:41   Log-Likelihood:                -67354.\n",
      "No. Observations:               17870   AIC:                         1.347e+05\n",
      "Df Residuals:                   17868   BIC:                         1.347e+05\n",
      "Df Model:                           1                                         \n",
      "Covariance Type:            nonrobust                                         \n",
      "===========================================================================================\n",
      "                              coef    std err          t      P>|t|      [0.025      0.975]\n",
      "-------------------------------------------------------------------------------------------\n",
      "const                      46.8753      0.078    597.460      0.000      46.722      47.029\n",
      "resids_first_regression     1.0000      0.003    316.041      0.000       0.994       1.006\n",
      "==============================================================================\n",
      "Omnibus:                     2725.309   Durbin-Watson:                   1.272\n",
      "Prob(Omnibus):                  0.000   Jarque-Bera (JB):              637.612\n",
      "Skew:                           0.046   Prob(JB):                    3.50e-139\n",
      "Kurtosis:                       2.079   Cond. No.                         24.8\n",
      "==============================================================================\n",
      "\n",
      "Notes:\n",
      "[1] Standard Errors assume that the covariance matrix of the errors is correctly specified.\n"
     ]
    }
   ],
   "source": [
    "raw_data['resids_first_regression'] = model.resid\n",
    "\n",
    "X = sm.add_constant(raw_data['resids_first_regression'])\n",
    "Y = raw_data['earnings']\n",
    "\n",
    "model = sm.OLS(endog=Y, exog=X).fit()\n",
    "\n",
    "print(model.summary())"
   ]
  },
  {
   "cell_type": "markdown",
   "id": "03061143",
   "metadata": {},
   "source": [
    "The regression clearly shows a coeffcient of 1 on the residuals from the first regression, implying that the residuals are correctly specified and that the regression is correctly specified as it has a coefficient of 1 with high statistical significance."
   ]
  },
  {
   "cell_type": "markdown",
   "id": "0fe93bd3",
   "metadata": {},
   "source": []
  }
 ],
 "metadata": {
  "kernelspec": {
   "display_name": "Python 3",
   "language": "python",
   "name": "python3"
  },
  "language_info": {
   "codemirror_mode": {
    "name": "ipython",
    "version": 3
   },
   "file_extension": ".py",
   "mimetype": "text/x-python",
   "name": "python",
   "nbconvert_exporter": "python",
   "pygments_lexer": "ipython3",
   "version": "3.11.5"
  }
 },
 "nbformat": 4,
 "nbformat_minor": 5
}
